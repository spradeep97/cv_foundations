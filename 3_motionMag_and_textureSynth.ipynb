{
  "nbformat": 4,
  "nbformat_minor": 0,
  "metadata": {
    "colab": {
      "name": "motionMag_and_textureSynth.ipynb",
      "provenance": [],
      "collapsed_sections": [],
      "include_colab_link": true
    },
    "kernelspec": {
      "name": "python3",
      "display_name": "Python 3"
    },
    "accelerator": "GPU"
  },
  "cells": [
    {
      "cell_type": "markdown",
      "metadata": {
        "id": "view-in-github",
        "colab_type": "text"
      },
      "source": [
        "<a href=\"https://colab.research.google.com/github/spradeep97/cv_foundations/blob/master/3_motionMag_and_textureSynth.ipynb\" target=\"_parent\"><img src=\"https://colab.research.google.com/assets/colab-badge.svg\" alt=\"Open In Colab\"/></a>"
      ]
    },
    {
      "cell_type": "markdown",
      "metadata": {
        "id": "Uqh1kK1LeS2U",
        "colab_type": "text"
      },
      "source": [
        "#EECS 504 PS3: Motion Magnification and Texture Synthesis\n",
        "\n",
        "Pradeep Suresh, spradeep\n",
        "\n",
        "\n"
      ]
    },
    {
      "cell_type": "markdown",
      "metadata": {
        "id": "Wug5j9jHeeAx",
        "colab_type": "text"
      },
      "source": [
        "# Starting\n",
        "\n",
        "Run the following code to import the modules you'll need. After your finish the assignment, remember to run all cells and save the notebook to your local machine as a .ipynb file for Canvas submission."
      ]
    },
    {
      "cell_type": "code",
      "metadata": {
        "id": "loxyYKR1ZBsG",
        "colab_type": "code",
        "colab": {}
      },
      "source": [
        "%matplotlib inline\n",
        "import numpy as np\n",
        "from numpy.fft import fft2, ifft2, fftshift, ifftshift\n",
        "from numpy import angle, real\n",
        "from numpy import exp, abs, pi, sqrt\n",
        "import matplotlib.pyplot as plt\n",
        "import cv2\n",
        "import math\n",
        "\n",
        "import random\n",
        "import sys\n",
        "from scipy import ndimage\n",
        "\n",
        "# cv2.imshow does not work in Colab, we use cv2_imshow instead\n",
        "from google.colab.patches import cv2_imshow"
      ],
      "execution_count": 0,
      "outputs": []
    },
    {
      "cell_type": "code",
      "metadata": {
        "id": "-O7p5RhASRaB",
        "colab_type": "code",
        "colab": {}
      },
      "source": [
        "%%capture\n",
        "# download some images\n",
        "# should take a second to run\n",
        "\n",
        "# for motion magnification problem\n",
        "! wget -O bill.avi \"https://drive.google.com/uc?export=download&id=1QR2dCShn-fYYEvcAQ8J4mnIo_ISqrjc7\"\n",
        "\n",
        "# for texture synthesis problem\n",
        "! wget -O texture.jpg \"https://drive.google.com/uc?export=download&id=11IlTZNLwfYsXQt2L1GbKdNqcj6JNkQik\"\n",
        "! wget -O rings.jpg \"https://drive.google.com/uc?export=download&id=1fYtmQe_a40BWg1OU178SFbcU4KRZuphn\"\n",
        "! wget -O jigsaw.jpg \"https://drive.google.com/uc?export=download&id=1SlYUw6vT9_PNP8XNhQfAu36AtPJ-PMpk\""
      ],
      "execution_count": 0,
      "outputs": []
    },
    {
      "cell_type": "markdown",
      "metadata": {
        "id": "RpV5DTNmaBDk",
        "colab_type": "text"
      },
      "source": [
        "## **Problem 3.1 (a)**"
      ]
    },
    {
      "cell_type": "code",
      "metadata": {
        "id": "ijhkAqcdZM3v",
        "colab_type": "code",
        "colab": {}
      },
      "source": [
        "def imshow(im, cmap='gray'):\n",
        "    # clip image from 0-1\n",
        "    im = np.clip(im, 0, 1)\n",
        "    plt.imshow(im, cmap=cmap)"
      ],
      "execution_count": 0,
      "outputs": []
    },
    {
      "cell_type": "code",
      "metadata": {
        "id": "Mo2f0-Y6ZQyf",
        "colab_type": "code",
        "colab": {}
      },
      "source": [
        "# 9x9 images\n",
        "im_size = 9\n",
        "\n",
        "# we would like to magnify the change between im1 and im2 by 4x\n",
        "magnification_factor = 4;\n",
        "\n",
        "# horizontal movement from (0, 0) to (0, 1)\n",
        "im1 = np.zeros([im_size, im_size])\n",
        "im2 = np.zeros([im_size, im_size])\n",
        "im1[0,0] = 1\n",
        "im2[0,1] = 1\n",
        "\n",
        "ff1 = fftshift(fft2(im1))\n",
        "ff2 = fftshift(fft2(im2))"
      ],
      "execution_count": 0,
      "outputs": []
    },
    {
      "cell_type": "markdown",
      "metadata": {
        "id": "USjr94uIXJ1Y",
        "colab_type": "text"
      },
      "source": [
        "### This is a quick tutorial for those who are not familiar with complex numbers in python."
      ]
    },
    {
      "cell_type": "code",
      "metadata": {
        "id": "KOZCXoSWZV2D",
        "colab_type": "code",
        "outputId": "b23ddc4b-d760-4572-edb2-49b62e92f7d6",
        "colab": {
          "base_uri": "https://localhost:8080/",
          "height": 102
        }
      },
      "source": [
        "# create a complex number\n",
        "x = 1 + 1j\n",
        "print(\"x =\", x)\n",
        "print(\"x.real:\", x.real, \"| x.imag:\", x.imag)\n",
        "\n",
        "# magnitude and phase of complex number\n",
        "mag = abs(x)\n",
        "phase = angle(x)\n",
        "\n",
        "print(\"Magnitude\", mag)\n",
        "print(\"Phase\", phase)\n",
        "\n",
        "# Euler's formula\n",
        "y = mag * exp(phase * 1j)\n",
        "print(\"y =\", y)"
      ],
      "execution_count": 0,
      "outputs": [
        {
          "output_type": "stream",
          "text": [
            "x = (1+1j)\n",
            "x.real: 1.0 | x.imag: 1.0\n",
            "Magnitude 1.4142135623730951\n",
            "Phase 0.7853981633974483\n",
            "y = (1.0000000000000002+1j)\n"
          ],
          "name": "stdout"
        }
      ]
    },
    {
      "cell_type": "code",
      "metadata": {
        "id": "uWusq5kFZSEw",
        "colab_type": "code",
        "colab": {}
      },
      "source": [
        "def magnify_change(im1, im2, magnification_factor):\n",
        "    \n",
        "    # find phase shift in frequency domain\n",
        "    im1_dft = fft2(im1)\n",
        "    im2_dft = fft2(im2)\n",
        "    phase_shift = angle(im2_dft) - angle(im1_dft)\n",
        "    new_phase = angle(im1_dft) + magnification_factor * phase_shift\n",
        "    \n",
        "    # magnify the phase change in frequency domain \n",
        "    magnified_dft = abs(im2_dft) * exp(new_phase * 1j)\n",
        "    \n",
        "    # what does the magnified phase change cause in image space?\n",
        "    magnified = ifft2(magnified_dft).real\n",
        "    \n",
        "    return magnified"
      ],
      "execution_count": 0,
      "outputs": []
    },
    {
      "cell_type": "code",
      "metadata": {
        "id": "YulC7V6nZW2u",
        "colab_type": "code",
        "outputId": "761b5789-cd0c-4e71-96b7-ed286dd365e5",
        "colab": {
          "base_uri": "https://localhost:8080/",
          "height": 261
        }
      },
      "source": [
        "# magnify position change\n",
        "magnified = magnify_change(im1, im2, magnification_factor);\n",
        "\n",
        "plt.figure(figsize=(12,36))\n",
        "plt.subplot(131)\n",
        "imshow(im1); plt.title('im1');\n",
        "\n",
        "plt.subplot(132)\n",
        "imshow(im2); plt.title('im2');\n",
        "\n",
        "plt.subplot(133)\n",
        "imshow(magnified); plt.title('magnified');"
      ],
      "execution_count": 0,
      "outputs": [
        {
          "output_type": "display_data",
          "data": {
            "image/png": "[encoded data removed]",
            "text/plain": [
              "<Figure size 864x2592 with 3 Axes>"
            ]
          },
          "metadata": {
            "tags": []
          }
        }
      ]
    },
    {
      "cell_type": "markdown",
      "metadata": {
        "id": "nQAF4he7Za_8",
        "colab_type": "text"
      },
      "source": [
        "## **Problem 3.1 (b)**\n"
      ]
    },
    {
      "cell_type": "code",
      "metadata": {
        "id": "1LPwI_TsZfDR",
        "colab_type": "code",
        "outputId": "90bfc01d-9764-42ad-8e74-14e1607fe53c",
        "colab": {
          "base_uri": "https://localhost:8080/",
          "height": 261
        }
      },
      "source": [
        "# 9x9 images\n",
        "im_size = 9\n",
        "\n",
        "# we would like to magnify the change between im1 and im2 by 4x\n",
        "magnification_factor = 4\n",
        "\n",
        "# horizontal movement from (0, 0) to (0, 1)\n",
        "# additional vertical movement from (8, 8) to (7, 8)\n",
        "im1 = np.zeros([im_size, im_size])\n",
        "im2 = np.zeros([im_size, im_size])\n",
        "im1[0,0] = 1\n",
        "im2[0,1] = 1\n",
        "im1[8,8] = 1\n",
        "im2[7,8] = 1\n",
        "\n",
        "# magnify position change\n",
        "magnified = magnify_change(im1, im2, magnification_factor)\n",
        "\n",
        "\n",
        "plt.figure(figsize=(12,36))\n",
        "plt.subplot(131)\n",
        "imshow(im1); plt.title('im1');\n",
        "\n",
        "plt.subplot(132)\n",
        "imshow(im2); plt.title('im2');\n",
        "\n",
        "plt.subplot(133)\n",
        "imshow(magnified); plt.title('magnified');\n"
      ],
      "execution_count": 0,
      "outputs": [
        {
          "output_type": "display_data",
          "data": {
            "image/png": "[encoded data removed]",
            "text/plain": [
              "<Figure size 864x2592 with 3 Axes>"
            ]
          },
          "metadata": {
            "tags": []
          }
        }
      ]
    },
    {
      "cell_type": "markdown",
      "metadata": {
        "id": "UIQv7IOhvfoJ",
        "colab_type": "text"
      },
      "source": [
        "Motions of pixels in the image are not globally consistent i.e. each pixel moves in a different direction. This results in two different phase shifts which are not spatially consistent for the  whole image. Thus, artifacts are produced as a result of interference of the two differently directed phase shifts."
      ]
    },
    {
      "cell_type": "markdown",
      "metadata": {
        "colab_type": "text",
        "id": "XyIt4H8MZnno"
      },
      "source": [
        "## **Problem 3.1 (c)**\n"
      ]
    },
    {
      "cell_type": "code",
      "metadata": {
        "id": "NomQMElTZYiq",
        "colab_type": "code",
        "outputId": "dc2abb17-ccc5-47ca-c6bb-bc197aa79dba",
        "colab": {
          "base_uri": "https://localhost:8080/",
          "height": 278
        }
      },
      "source": [
        "# 9x9 images\n",
        "im_size = 9\n",
        "\n",
        "# we would like to magnify the change between im1 and im2 by 4x\n",
        "magnification_factor = 4\n",
        "\n",
        "# width of our Gaussian window\n",
        "sigma = 2\n",
        "\n",
        "# horizontal movement from (0, 0) to (0, 1)\n",
        "# additional vertical movement from (8, 8) to (7, 8)\n",
        "im1 = np.zeros([im_size, im_size])\n",
        "im2 = np.zeros([im_size, im_size])\n",
        "im1[0,0] = 1\n",
        "im2[0,1] = 1\n",
        "im1[8,8] = 1\n",
        "im2[7,8] = 1\n",
        "\n",
        "# we will magnify windows of the image and aggregate the results\n",
        "magnified = np.zeros([im_size, im_size])\n",
        "\n",
        "# meshgrid for computing Gaussian window\n",
        "X, Y = np.meshgrid(np.arange(im_size), np.arange(im_size))\n",
        "\n",
        "for y in range(0, im_size, 2*sigma):\n",
        "    for x in range(0, im_size, 2*sigma):\n",
        "        gaussian_mask = np.exp(-((X-x)**2 + (Y-y)**2) / (2*sigma**2)) * (1 / (2*np.pi*sigma**2))\n",
        "        window_magnified = magnify_change(np.multiply(im1,gaussian_mask), np.multiply(im2,gaussian_mask), \\\n",
        "                                          magnification_factor)\n",
        "        \n",
        "        magnified = magnified + window_magnified\n",
        "        \n",
        "plt.figure(figsize=(12,36))\n",
        "plt.subplot(131)\n",
        "imshow(im1); plt.title('im1');\n",
        "\n",
        "plt.subplot(132)\n",
        "imshow(im2); plt.title('im2');\n",
        "\n",
        "plt.subplot(133)\n",
        "imshow(magnified); plt.title('magnified')"
      ],
      "execution_count": 0,
      "outputs": [
        {
          "output_type": "execute_result",
          "data": {
            "text/plain": [
              "Text(0.5, 1.0, 'magnified')"
            ]
          },
          "metadata": {
            "tags": []
          },
          "execution_count": 10
        },
        {
          "output_type": "display_data",
          "data": {
            "image/png": "[encoded data removed]",
            "text/plain": [
              "<Figure size 864x2592 with 3 Axes>"
            ]
          },
          "metadata": {
            "tags": []
          }
        }
      ]
    },
    {
      "cell_type": "code",
      "metadata": {
        "id": "UI8xpPbuGkF9",
        "colab_type": "code",
        "colab": {}
      },
      "source": [
        ""
      ],
      "execution_count": 0,
      "outputs": []
    },
    {
      "cell_type": "markdown",
      "metadata": {
        "id": "9Kzn223xZsN3",
        "colab_type": "text"
      },
      "source": [
        "## **Problem 3.1 (d) - Motion Magnification**\n"
      ]
    },
    {
      "cell_type": "code",
      "metadata": {
        "id": "0l47cx31ZvpO",
        "colab_type": "code",
        "outputId": "2047b4dd-2f8f-4be3-edd0-ecd1fd9b3bf9",
        "colab": {
          "base_uri": "https://localhost:8080/",
          "height": 34
        }
      },
      "source": [
        "import numpy as np\n",
        "import cv2\n",
        "\n",
        "cap = cv2.VideoCapture('bill.avi')\n",
        "\n",
        "# list of video frames\n",
        "frames = []\n",
        "\n",
        "while(cap.isOpened()):\n",
        "    # read frame from the video\n",
        "    ret, frame = cap.read()\n",
        "    \n",
        "    if ret is False:\n",
        "        break\n",
        "\n",
        "    frame = cv2.resize(frame, (200, 200), interpolation=cv2.INTER_CUBIC)\n",
        "    frames.append(frame)\n",
        "\n",
        "cap.release()\n",
        "\n",
        "# scale frame to 0-1\n",
        "frames = np.array(frames) / 255.\n",
        "print(\"frames size:\", frames.shape, \"# (nb_frames, height, width, channel)\")\n",
        "\n",
        "# get height, width\n",
        "num_frames = frames.shape[0]\n",
        "height = frames.shape[1]\n",
        "width = frames.shape[2]"
      ],
      "execution_count": 0,
      "outputs": [
        {
          "output_type": "stream",
          "text": [
            "frames size: (60, 200, 200, 3) # (nb_frames, height, width, channel)\n"
          ],
          "name": "stdout"
        }
      ]
    },
    {
      "cell_type": "code",
      "metadata": {
        "id": "RbB0d5fDZ1DQ",
        "colab_type": "code",
        "outputId": "0526c061-1716-46d2-e23d-fce7c0db6d2a",
        "colab": {
          "base_uri": "https://localhost:8080/",
          "height": 289
        }
      },
      "source": [
        "# 10x magnification of motion\n",
        "magnification_factor = 10\n",
        "\n",
        "# width of Gaussian window\n",
        "sigma = 26\n",
        "\n",
        "# alpha for moving average\n",
        "alpha = 0.5\n",
        "\n",
        "# we will magnify windows of the video and aggregate the results\n",
        "magnified = np.zeros_like(frames)\n",
        "\n",
        "# meshgrid for computing Gaussian window\n",
        "X, Y = np.meshgrid(np.arange(width), np.arange(height))\n",
        "\n",
        "# iterate over windows of the frames\n",
        "x_range = list(range(0, width, 2*sigma))\n",
        "y_range = list(range(0, height, 2*sigma))\n",
        "num_windows = len(x_range) * len(y_range)\n",
        "window_index = 1\n",
        "\n",
        "for y in y_range:\n",
        "    for x in x_range:\n",
        "        for channel_index in range(3): # RGB channels\n",
        "            for frame_index in range(num_frames):\n",
        "                \n",
        "                # create windowed frames\n",
        "                gaussian_mask = np.exp(-((X-x)**2 + (Y-y)**2) / (2*sigma**2)) * (1 / (2*np.pi*sigma**2))\n",
        "                windowed_frames = gaussian_mask * frames[frame_index,:,:,channel_index]\n",
        "            \n",
        "                # initialize moving average of phase for current window/channel\n",
        "                if frame_index == 0:\n",
        "                    window_average_phase = angle(fft2(windowed_frames))\n",
        "                \n",
        "                window_dft = fft2(windowed_frames)\n",
        "                \n",
        "                # compute phase shift and constrain to [-pi, pi] since\n",
        "                # angle space wraps around\n",
        "                window_phase_shift = angle(window_dft) - window_average_phase\n",
        "                window_phase_shift[window_phase_shift > pi] = window_phase_shift[window_phase_shift > pi] - 2 * pi\n",
        "                window_phase_shift[window_phase_shift < -pi] = window_phase_shift[window_phase_shift < -pi] + 2 * pi\n",
        "                \n",
        "                # magnify phase shift\n",
        "                window_magnified_phase = magnification_factor * window_phase_shift + window_average_phase\n",
        "                 \n",
        "                # go back to image space\n",
        "                window_magnified_dft = abs(window_dft) * exp(window_magnified_phase*1j)\n",
        "                window_magnified = abs(ifft2(window_magnified_dft))\n",
        "                \n",
        "                # update moving average\n",
        "                window_phase_unwrapped = window_average_phase + window_phase_shift\n",
        "                window_average_phase = alpha * window_average_phase + (1 - alpha) * window_phase_unwrapped\n",
        "                \n",
        "                # aggregate\n",
        "                magnified[frame_index,:,:,channel_index] = magnified[frame_index,:,:,channel_index] + window_magnified\n",
        "        \n",
        "        # print progress\n",
        "        print('{}/{}'.format(window_index, num_windows))\n",
        "        window_index += 1"
      ],
      "execution_count": 0,
      "outputs": [
        {
          "output_type": "stream",
          "text": [
            "1/16\n",
            "2/16\n",
            "3/16\n",
            "4/16\n",
            "5/16\n",
            "6/16\n",
            "7/16\n",
            "8/16\n",
            "9/16\n",
            "10/16\n",
            "11/16\n",
            "12/16\n",
            "13/16\n",
            "14/16\n",
            "15/16\n",
            "16/16\n"
          ],
          "name": "stdout"
        }
      ]
    },
    {
      "cell_type": "code",
      "metadata": {
        "id": "T0LAo9tGZ3IL",
        "colab_type": "code",
        "colab": {}
      },
      "source": [
        "outputs = magnified / np.max(magnified)\n",
        "for channel_index in range(3):\n",
        "    original_frame = frames[0,:,:,channel_index]\n",
        "    magnified_frame = outputs[0,:,:,channel_index]\n",
        "    scale = np.std(original_frame[:]) / np.std(magnified_frame[:])\n",
        "    original_mean = np.mean(original_frame[:])\n",
        "    magnified_mean = np.mean(magnified_frame[:])\n",
        "    outputs[:,:,:,channel_index] = magnified_mean + scale * (outputs[:,:,:,channel_index] - magnified_mean)\n",
        "\n",
        "outputs = np.clip(outputs, 0, 1)"
      ],
      "execution_count": 0,
      "outputs": []
    },
    {
      "cell_type": "code",
      "metadata": {
        "id": "eGwdxkFrZ4K9",
        "colab_type": "code",
        "colab": {}
      },
      "source": [
        "# create output video\n",
        "fourcc = cv2.VideoWriter_fourcc('M','J','P','G')\n",
        "# fourcc = cv2.VideoWriter_fourcc(*'XVID')\n",
        "out = cv2.VideoWriter('bill_magnified.avi',fourcc, 30.0, (height, width))\n",
        "\n",
        "for i in range(frames.shape[0]):\n",
        "    # scale the frame back to 0-255\n",
        "    frame = (np.clip(outputs[i], 0, 1) * 255).astype(np.uint8)\n",
        "    \n",
        "    # write frame to output video\n",
        "    out.write(frame)\n",
        "\n",
        "out.release()"
      ],
      "execution_count": 0,
      "outputs": []
    },
    {
      "cell_type": "code",
      "metadata": {
        "id": "8QgaekEWZ6lE",
        "colab_type": "code",
        "colab": {}
      },
      "source": [
        "# Only for colab downloading videos\n",
        "try:\n",
        "    from google.colab import files\n",
        "    files.download('bill_magnified.avi')\n",
        "except:\n",
        "    print(\"Only for google colab\")"
      ],
      "execution_count": 0,
      "outputs": []
    },
    {
      "cell_type": "markdown",
      "metadata": {
        "id": "NPrGFZZ-aGcx",
        "colab_type": "text"
      },
      "source": [
        "## **Problem 3.2 - Texture Synthesis**\n",
        "\n",
        "Note that the functions provided below are templates. Feel free to add your own helper functions as needed.\n",
        "\n",
        "You can reference the pseudocode provided here:  https://people.eecs.berkeley.edu/~efros/research/NPS/alg.html."
      ]
    },
    {
      "cell_type": "markdown",
      "metadata": {
        "id": "6dnTFk9RZP8e",
        "colab_type": "text"
      },
      "source": [
        "# My helper functions:"
      ]
    },
    {
      "cell_type": "code",
      "metadata": {
        "id": "ymlTWmECZU5U",
        "colab_type": "code",
        "outputId": "03e3ef52-e729-424f-e32e-6979cfc9fd88",
        "colab": {
          "base_uri": "https://localhost:8080/",
          "height": 129
        }
      },
      "source": [
        "def calc_ssd(im1, im2):\n",
        "    assert(im1.shape == im2.shape), \"Image sizes must be equal to calculate SSD!\"\n",
        "    return np.sum((im1 - im2)**2)\n",
        "\n",
        "def GetUnfilledNeighbours(img):\n",
        "    "
      ],
      "execution_count": 0,
      "outputs": [
        {
          "output_type": "error",
          "ename": "SyntaxError",
          "evalue": "ignored",
          "traceback": [
            "\u001b[0;36m  File \u001b[0;32m\"<ipython-input-16-5cc14c61255c>\"\u001b[0;36m, line \u001b[0;32m6\u001b[0m\n\u001b[0;31m    \u001b[0m\n\u001b[0m    ^\u001b[0m\n\u001b[0;31mSyntaxError\u001b[0m\u001b[0;31m:\u001b[0m unexpected EOF while parsing\n"
          ]
        }
      ]
    },
    {
      "cell_type": "markdown",
      "metadata": {
        "id": "wHh7MOWBVuOs",
        "colab_type": "text"
      },
      "source": [
        "# My Testbed"
      ]
    },
    {
      "cell_type": "code",
      "metadata": {
        "id": "BVVLElznVxBc",
        "colab_type": "code",
        "outputId": "cfc87cf2-c13c-4089-9c6a-affbb83f7ec8",
        "colab": {
          "base_uri": "https://localhost:8080/",
          "height": 102
        }
      },
      "source": [
        "source = cv2.imread('texture.jpg')\n",
        "window_sizes = [5, 7, 13] \n",
        "out_size = [100, 100]\n",
        "\n",
        "print('Source Image')\n",
        "cv2_imshow(source)"
      ],
      "execution_count": 0,
      "outputs": [
        {
          "output_type": "stream",
          "text": [
            "Source Image\n"
          ],
          "name": "stdout"
        },
        {
          "output_type": "display_data",
          "data": {
            "image/png": "[encoded data removed]",
            "text/plain": [
              "<PIL.Image.Image image mode=RGB size=68x68 at 0x7F38E770AF28>"
            ]
          },
          "metadata": {
            "tags": []
          }
        }
      ]
    },
    {
      "cell_type": "markdown",
      "metadata": {
        "id": "DxMJ7MolbtZa",
        "colab_type": "text"
      },
      "source": [
        "### Find matches function"
      ]
    },
    {
      "cell_type": "code",
      "metadata": {
        "id": "aay0xFu3b0rS",
        "colab_type": "code",
        "colab": {}
      },
      "source": [
        "def find_matches(template, sample, gauss_mask):\n",
        "    ### parameters, as used by Efros and Leung\n",
        "    epsilon = 0.1\n",
        "    delta = 0.3\n",
        "    (s_height, s_width, s_channels) = sample.shape\n",
        "    (t_height, t_width, t_channels) = template.shape\n",
        "    #### TODO:\n",
        "    # valid_mask is a square mask of width window_size that is 1 where template is filled\n",
        "    valid_mask = (template[:,:,0] > 0.0).astype(int)\n",
        "    mask = np.multiply(gauss_mask, valid_mask)\n",
        "    mask /= mask.sum()\n",
        "\n",
        "    #### TODO:\n",
        "    # vectorized code that calculates SSD(template, sample)*mask for all patches\n",
        "    SSD_MATRIX = np.zeros([s_height - t_height + 1, s_width - t_width + 1])\n",
        "    for i in range(s_height - t_height + 1):\n",
        "        for j in range(s_width - t_width + 1):\n",
        "            sq_differences = (template - sample[i:i+t_height, j:j+t_width])**2\n",
        "            agg_sq_diff = sq_differences.sum(axis = 2)\n",
        "            SSD_MATRIX[i,j] = np.sum(mask*agg_sq_diff)\n",
        "\n",
        "    min_ssd = np.min(SSD_MATRIX)\n",
        "    PixelList1 = np.argwhere(SSD_MATRIX <= (min_ssd * (1+epsilon)))\n",
        "    PixelList2 = np.argwhere(SSD_MATRIX <= delta)\n",
        "    common_pixels = (PixelList1[:,None] == PixelList2).all(-1).any(-1)\n",
        "    PixelList = PixelList1[common_pixels]\n",
        "\n",
        "    if len(PixelList) == 0:\n",
        "        PixelList = PixelList1\n",
        "\n",
        "    PixelList = PixelList + (t_height - 1)/2\n",
        "\n",
        "    return PixelList\n",
        "\n",
        "def synth_template(pixel,window_size, synth_img):\n",
        "  template = np.zeros([window_size,window_size,3])\n",
        "  \n",
        "  pixel = np.add((window_size-1)/2,pixel)   #changing the pixel according to the padded image\n",
        "  \n",
        "  synth_img = np.pad(synth_img, ( (int((window_size-1)/2),int((window_size-1)/2)), (int((window_size-1)/2),int((window_size-1)/2)), (0,0) ))\n",
        "  \n",
        "  for row,i in zip(range(int(pixel[0] - (window_size - 1)/2), int((pixel[0] + (window_size - 1)/2)+1)),range(template.shape[0])):\n",
        "    for col,j in zip(range(int((pixel[1] - (window_size - 1)/2)), int((pixel[1] + (window_size - 1)/2)+1)),range(template.shape[0])):\n",
        "      # print('template shape',template.shape)\n",
        "      # print('synthe shape',synth_img.shape)\n",
        "      template[i,j,:] = synth_img[row,col,:]    # : channels\n",
        "\n",
        "  return template\n"
      ],
      "execution_count": 0,
      "outputs": []
    },
    {
      "cell_type": "markdown",
      "metadata": {
        "id": "dL_bp42ob1AT",
        "colab_type": "text"
      },
      "source": [
        "### Synthesize texture function"
      ]
    },
    {
      "cell_type": "code",
      "metadata": {
        "id": "EOOIwV57b-eT",
        "colab_type": "code",
        "colab": {}
      },
      "source": [
        "def synth_texture(sample, window_size, out_size):\n",
        "    # normalize pixel intensity\n",
        "    sample = sample.astype(np.float64)  #convert sample texture to numpy float64\n",
        "    sample = sample / 255.0             #normalize all pixel values within [0.0,1.0]\n",
        "    seed_size = 3                       #size of initial seed\n",
        "    [sheight, swidth, channels] = sample.shape #store the sample image's height, width, depth\n",
        "    synth_img = np.zeros((*out_size, channels)) #create an empty image for the final texture\n",
        "\n",
        "    # initialization: pick a random 3x3 patch from sample and place in the middle of the synthesized image\n",
        "    rh = round(seed_size + np.random.uniform(0,1) * (sheight - 2 * seed_size))\n",
        "    rw = round(seed_size + np.random.uniform(0,1) * (swidth - 2 * seed_size))\n",
        "    center = [round(.5 * x) for x in out_size] # center\n",
        "    synth_img[center[0]: center[0] + seed_size, center[1]: center[1] + seed_size ,:] = sample[rh: rh + seed_size , rw: rw + seed_size,:]\n",
        "\n",
        "    # bitmap indicating filled pixels, the seed patch is initially filled\n",
        "    filled = np.zeros(out_size)\n",
        "    filled[center[0]: center[0] + seed_size , center[1]: center[1] + seed_size] = 1\n",
        "    num_filled = int(np.sum(filled))\n",
        "    n_pixels = out_size[0]*out_size[1]\n",
        "\n",
        "    # TODO\n",
        "    # intialize 2D zero-mean gaussian w/ variance = (window_size / 6.4)\n",
        "    sigma = window_size / 6.4\n",
        "    X,Y = np.meshgrid(np.arange(window_size), np.arange(window_size))\n",
        "    window_center = (window_size + 1)/2\n",
        "    gauss_mask = np.exp(-((X-window_center)**2 + (Y-window_center)**2) / (2*sigma**2)) * (1 / (2*np.pi*sigma**2))\n",
        "\n",
        "    # main loop: repeat until all pixels are filled\n",
        "    next_p = n_pixels / 10\n",
        "    while(num_filled < n_pixels):\n",
        "        # report progress\n",
        "        if(num_filled > next_p):\n",
        "            print(round(100 * num_filled / n_pixels), '% complete')\n",
        "            next_p += n_pixels / 10\n",
        "\n",
        "        # TODO:\n",
        "        # get list of unfilled pixels as (x, y) coordinates\n",
        "        # hint: use dilation and masking to efficiently find unfilled neighboring pixels\n",
        "        dilated = cv2.dilate(filled, np.ones((3,3), dtype=np.uint8))\n",
        "        unfilled_boundary = dilated - filled\n",
        "        unfilled_pixels = np.argwhere(unfilled_boundary == 1)\n",
        "\n",
        "        # TODO:\n",
        "        # (optional, but recommended) randomly permute and sort list of pixels decreasing number of filled neighbor pixels\n",
        "\n",
        "        # TODO:\n",
        "        # iterate over the list of pixels\n",
        "        for pixel in unfilled_pixels:\n",
        "          # TODO:\n",
        "          # place window with center as (x, y) and use as template\n",
        "          template = synth_template(pixel, window_size, synth_img)\n",
        "\n",
        "          # TODO:\n",
        "          # find the best matching windows from sample image\n",
        "          matching_windows = find_matches(template, sample, gauss_mask)\n",
        "          # randomly sample one from best matches\n",
        "          rand_idx = np.random.choice(np.arange(matching_windows.shape[0]))\n",
        "          rand_match = matching_windows[rand_idx].astype(int)\n",
        "          match_pixel = sample[rand_match[0], rand_match[1], :]\n",
        "\n",
        "          synth_img[pixel[0], pixel[1], :] = match_pixel\n",
        "          filled[pixel[0], pixel[1]] = 1\n",
        "\n",
        "          pass\n",
        "        \n",
        "        num_filled = int(np.sum(filled))\n",
        "    return synth_img*255"
      ],
      "execution_count": 0,
      "outputs": []
    },
    {
      "cell_type": "markdown",
      "metadata": {
        "id": "ar9WGk44b_Aw",
        "colab_type": "text"
      },
      "source": [
        "### Main function\n",
        "\n",
        "Run the texture synthesis algorithm to generate texture of new shape. "
      ]
    },
    {
      "cell_type": "code",
      "metadata": {
        "id": "cE0a6bhJcBbp",
        "colab_type": "code",
        "outputId": "749cc82e-b43c-43ef-f7d9-9c85f5f54ff5",
        "colab": {
          "base_uri": "https://localhost:8080/",
          "height": 1000
        }
      },
      "source": [
        "# Texture synthesis on rings\n",
        "source = cv2.imread('rings.jpg')\n",
        "window_sizes = [5, 7, 13] \n",
        "out_size = [100, 100]\n",
        "\n",
        "print('Source Image')\n",
        "cv2_imshow(source)\n",
        "\n",
        "for w in window_sizes:\n",
        "  target = synth_texture(source, w, out_size)\n",
        "  print('Target Image')\n",
        "  cv2_imshow(target)\n",
        "\n",
        "w = 5\n",
        "\n",
        "# Texture synthesis on colored image\n",
        "source = cv2.imread('texture.jpg')\n",
        "print('Source Image')\n",
        "cv2_imshow(source)\n",
        "target = synth_texture(source, w, out_size)\n",
        "print('Target Image')\n",
        "cv2_imshow(target)\n",
        "\n",
        "# Don't need to submit this one\n",
        "source = cv2.imread('jigsaw.jpg')\n",
        "print('Source Image')\n",
        "cv2_imshow(source)\n",
        "target = synth_texture(source, w, out_size)\n",
        "print('Target Image')\n",
        "cv2_imshow(target)"
      ],
      "execution_count": 0,
      "outputs": [
        {
          "output_type": "stream",
          "text": [
            "Source Image\n"
          ],
          "name": "stdout"
        },
        {
          "output_type": "display_data",
          "data": {
            "image/png": "[encoded data removed]",
            "text/plain": [
              "<PIL.Image.Image image mode=RGB size=34x34 at 0x7F1EEE3E5EB8>"
            ]
          },
          "metadata": {
            "tags": []
          }
        },
        {
          "output_type": "stream",
          "text": [
            "11 % complete\n",
            "20 % complete\n",
            "30 % complete\n",
            "42 % complete\n",
            "50 % complete\n",
            "62 % complete\n",
            "72 % complete\n",
            "83 % complete\n",
            "90 % complete\n",
            "Target Image\n"
          ],
          "name": "stdout"
        },
        {
          "output_type": "display_data",
          "data": {
            "image/png": "[encoded data removed]",
            "text/plain": [
              "<PIL.Image.Image image mode=RGB size=100x100 at 0x7F1EED24AFD0>"
            ]
          },
          "metadata": {
            "tags": []
          }
        },
        {
          "output_type": "stream",
          "text": [
            "11 % complete\n",
            "20 % complete\n",
            "30 % complete\n",
            "42 % complete\n",
            "50 % complete\n",
            "62 % complete\n",
            "72 % complete\n",
            "83 % complete\n",
            "90 % complete\n",
            "Target Image\n"
          ],
          "name": "stdout"
        },
        {
          "output_type": "display_data",
          "data": {
            "image/png": "[encoded data removed]",
            "text/plain": [
              "<PIL.Image.Image image mode=RGB size=100x100 at 0x7F1EED24AEB8>"
            ]
          },
          "metadata": {
            "tags": []
          }
        },
        {
          "output_type": "stream",
          "text": [
            "11 % complete\n",
            "20 % complete\n",
            "30 % complete\n",
            "42 % complete\n",
            "50 % complete\n",
            "62 % complete\n",
            "72 % complete\n",
            "83 % complete\n",
            "90 % complete\n",
            "Target Image\n"
          ],
          "name": "stdout"
        },
        {
          "output_type": "display_data",
          "data": {
            "image/png": "[encoded data removed]",
            "text/plain": [
              "<PIL.Image.Image image mode=RGB size=100x100 at 0x7F1EED24AF28>"
            ]
          },
          "metadata": {
            "tags": []
          }
        },
        {
          "output_type": "stream",
          "text": [
            "Source Image\n"
          ],
          "name": "stdout"
        },
        {
          "output_type": "display_data",
          "data": {
            "image/png": "[encoded data removed]",
            "text/plain": [
              "<PIL.Image.Image image mode=RGB size=68x68 at 0x7F1EED24AF60>"
            ]
          },
          "metadata": {
            "tags": []
          }
        },
        {
          "output_type": "stream",
          "text": [
            "11 % complete\n",
            "20 % complete\n",
            "30 % complete\n",
            "42 % complete\n",
            "50 % complete\n",
            "62 % complete\n",
            "72 % complete\n",
            "83 % complete\n",
            "90 % complete\n",
            "Target Image\n"
          ],
          "name": "stdout"
        },
        {
          "output_type": "display_data",
          "data": {
            "image/png": "[encoded data removed]",
            "text/plain": [
              "<PIL.Image.Image image mode=RGB size=100x100 at 0x7F1EED24AEB8>"
            ]
          },
          "metadata": {
            "tags": []
          }
        },
        {
          "output_type": "stream",
          "text": [
            "Source Image\n"
          ],
          "name": "stdout"
        },
        {
          "output_type": "display_data",
          "data": {
            "image/png": "[encoded data removed]",
            "text/plain": [
              "<PIL.Image.Image image mode=RGB size=136x136 at 0x7F1EED24AEB8>"
            ]
          },
          "metadata": {
            "tags": []
          }
        },
        {
          "output_type": "stream",
          "text": [
            "11 % complete\n",
            "20 % complete\n",
            "30 % complete\n",
            "42 % complete\n",
            "50 % complete\n",
            "62 % complete\n",
            "72 % complete\n",
            "83 % complete\n",
            "90 % complete\n",
            "Target Image\n"
          ],
          "name": "stdout"
        },
        {
          "output_type": "display_data",
          "data": {
            "image/png": "[encoded data removed]",
            "text/plain": [
              "<PIL.Image.Image image mode=RGB size=100x100 at 0x7F1EED26E6D8>"
            ]
          },
          "metadata": {
            "tags": []
          }
        }
      ]
    },
    {
      "cell_type": "markdown",
      "metadata": {
        "id": "cH3yJGHAyHuB",
        "colab_type": "text"
      },
      "source": [
        "# Algorithm's Performance:\n",
        "As the window size increases, the algorithm gets better at recreating the original texture. This is because we basically are incorporating truer statistics of the original texture while computing SSD.\n",
        "\n",
        "# Re-running the Algorithm with same seed size:\n",
        "This does not produce consistent results due to the inherent randomness in picking the best match from the list of candidate matches. But, as we increase the window size, the number of candidate matches reduce due to more stringent SSD computation. This directly reduces the randomness in our selection of the best match and the consistency improves."
      ]
    },
    {
      "cell_type": "code",
      "metadata": {
        "id": "c_Ci0ElezNdT",
        "colab_type": "code",
        "colab": {}
      },
      "source": [
        ""
      ],
      "execution_count": 0,
      "outputs": []
    }
  ]
}